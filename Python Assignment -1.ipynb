{
 "cells": [
  {
   "cell_type": "markdown",
   "metadata": {},
   "source": [
    "# Task 1"
   ]
  },
  {
   "cell_type": "code",
   "execution_count": 9,
   "metadata": {},
   "outputs": [
    {
     "name": "stdout",
     "output_type": "stream",
     "text": [
      "1505,1540,1575,1610,1645,1680,1715,1750,1785,1820,1855,1890,1925,1960,1995,2030,2065,2100,2135,2170,2205,2240,2275,2310,2345,2380,2415,2450,2485,2520,2555,2590,2625,2660,2695\n"
     ]
    }
   ],
   "source": [
    "n=[]\n",
    "for x in range(1500, 2700):\n",
    "    if (x%7==0) and (x%5==0):\n",
    "        n.append(str(x))\n",
    "print (','.join(n))\n"
   ]
  },
  {
   "cell_type": "markdown",
   "metadata": {},
   "source": [
    "# Task 2"
   ]
  },
  {
   "cell_type": "code",
   "execution_count": 3,
   "metadata": {},
   "outputs": [
    {
     "name": "stdout",
     "output_type": "stream",
     "text": [
      "Enter celcius value : 98\n",
      "Fahrenheit value :  208.4\n"
     ]
    }
   ],
   "source": [
    "Celsius = float(input(\"Enter celcius value : \"))\n",
    "Fahrenheit = (Celsius * 9/5) + 32\n",
    "print(\"Fahrenheit value : \", Fahrenheit)"
   ]
  },
  {
   "cell_type": "code",
   "execution_count": 4,
   "metadata": {},
   "outputs": [
    {
     "name": "stdout",
     "output_type": "stream",
     "text": [
      "Enter Fahrenheit value : 208\n",
      "Celsius value :  97.77777777777777\n"
     ]
    }
   ],
   "source": [
    "Fahrenheit = float(input(\"Enter Fahrenheit value : \"))\n",
    "Celsius = (Fahrenheit - 32) * 5/9\n",
    "print(\"Celsius value : \", Celsius)"
   ]
  },
  {
   "cell_type": "markdown",
   "metadata": {},
   "source": [
    "# Task 3"
   ]
  },
  {
   "cell_type": "code",
   "execution_count": 8,
   "metadata": {},
   "outputs": [
    {
     "name": "stdout",
     "output_type": "stream",
     "text": [
      "Enter an integer number : 4\n",
      "NOT OK\n"
     ]
    }
   ],
   "source": [
    "n = int(input(\"Enter an integer number : \"))\n",
    "\n",
    "if n%2!=0:\n",
    "    print(\"OK\")\n",
    "    \n",
    "else:\n",
    "        if n>=2 and n<=5:\n",
    "            print(\"NOT OK\")\n",
    "        elif n>=6 and n<=20:\n",
    "            print(\"OK\")\n",
    "        elif n>20:\n",
    "            print(\"OK\")"
   ]
  },
  {
   "cell_type": "code",
   "execution_count": null,
   "metadata": {},
   "outputs": [],
   "source": []
  },
  {
   "cell_type": "code",
   "execution_count": null,
   "metadata": {},
   "outputs": [],
   "source": []
  }
 ],
 "metadata": {
  "kernelspec": {
   "display_name": "Python 3",
   "language": "python",
   "name": "python3"
  },
  "language_info": {
   "codemirror_mode": {
    "name": "ipython",
    "version": 3
   },
   "file_extension": ".py",
   "mimetype": "text/x-python",
   "name": "python",
   "nbconvert_exporter": "python",
   "pygments_lexer": "ipython3",
   "version": "3.7.6"
  }
 },
 "nbformat": 4,
 "nbformat_minor": 4
}
